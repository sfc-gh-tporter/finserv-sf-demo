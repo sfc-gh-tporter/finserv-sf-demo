{
  "cells": [
    {
      "cell_type": "markdown",
      "metadata": {},
      "source": [
        "# Snowpark JSON Flattening Demo\n",
        "\n",
        "This notebook demonstrates how to use Snowpark Python to flatten JSON data from the `raw_data.security_trades` table.\n",
        "\n",
        "## Overview\n",
        "- Connect to Snowflake using the active session\n",
        "- Query the raw JSON data\n",
        "- Use Snowpark DataFrame operations to flatten nested JSON structures\n",
        "- Display the results\n"
      ]
    },
    {
      "cell_type": "code",
      "execution_count": null,
      "metadata": {},
      "outputs": [],
      "source": [
        "# Import required libraries\n",
        "from snowflake.snowpark.context import get_active_session\n",
        "from snowflake.snowpark.functions import col, flatten, parse_json\n",
        "import pandas as pd\n",
        "\n",
        "# Get the active Snowflake session\n",
        "session = get_active_session()\n",
        "print(f\"Connected to Snowflake as: {session.get_current_user()}\")\n",
        "print(f\"Current Database: {session.get_current_database()}\")\n",
        "print(f\"Current Schema: {session.get_current_schema()}\")\n",
        "print(f\"Current Warehouse: {session.get_current_warehouse()}\")\n"
      ]
    },
    {
      "cell_type": "markdown",
      "metadata": {},
      "source": [
        "## Step 1: Explore the Raw JSON Data\n",
        "\n",
        "Let's first look at the structure of our raw security trades data.\n"
      ]
    },
    {
      "cell_type": "code",
      "execution_count": null,
      "metadata": {},
      "outputs": [],
      "source": [
        "# Query the raw security trades table\n",
        "raw_trades_df = session.table(\"raw_data.security_trades\")\n",
        "\n",
        "# Show the schema\n",
        "print(\"Schema of raw_data.security_trades:\")\n",
        "raw_trades_df.schema\n",
        "\n",
        "# Display first few rows\n",
        "print(\"\\nFirst 3 rows of raw data:\")\n",
        "raw_trades_df.limit(3).show()\n"
      ]
    },
    {
      "cell_type": "markdown",
      "metadata": {},
      "source": [
        "## Step 2: Examine the JSON Structure\n",
        "\n",
        "Let's look at the JSON payload structure to understand what we need to flatten.\n"
      ]
    },
    {
      "cell_type": "code",
      "execution_count": null,
      "metadata": {},
      "outputs": [],
      "source": [
        "# Look at a sample JSON payload\n",
        "sample_json = raw_trades_df.select(\"transaction_payload\").limit(1).collect()[0][0]\n",
        "print(\"Sample JSON payload structure:\")\n",
        "print(sample_json)\n"
      ]
    },
    {
      "cell_type": "markdown",
      "metadata": {},
      "source": [
        "## Step 3: Flatten JSON Data Using Snowpark\n",
        "\n",
        "Now we'll use Snowpark DataFrame operations to flatten the nested JSON structure. The `transaction_payload` contains:\n",
        "- `customer_id`\n",
        "- `account_type`\n",
        "- `trades` (array of trade objects)\n"
      ]
    },
    {
      "cell_type": "code",
      "execution_count": null,
      "metadata": {},
      "outputs": [],
      "source": [
        "# Flatten the JSON data using Snowpark\n",
        "flattened_df = raw_trades_df.join_table_function(\n",
        "    flatten(col(\"transaction_payload\")[\"trades\"])\n",
        ").select(\n",
        "    col(\"transaction_date\"),\n",
        "    col(\"transaction_id\"),\n",
        "    col(\"transaction_payload\")[\"customer_id\"].cast(\"INT\").alias(\"customer_id\"),\n",
        "    col(\"transaction_payload\")[\"account_type\"].cast(\"STRING\").alias(\"account_type\"),\n",
        "    col(\"value\")[\"action\"].cast(\"STRING\").alias(\"trade_action\"),\n",
        "    col(\"value\")[\"ticker\"].cast(\"STRING\").alias(\"ticker\"),\n",
        "    col(\"value\")[\"shares\"].cast(\"INT\").alias(\"shares\"),\n",
        "    col(\"value\")[\"trade_price\"].cast(\"NUMBER)\").alias(\"trade_price\"),\n",
        "    col(\"value\")[\"total_trade_value\"].cast(\"NUMBER\").alias(\"total_trade_value\")\n",
        ")\n",
        "\n",
        "# Show the flattened data\n",
        "print(\"Flattened security trades data:\")\n",
        "flattened_df.show(10)\n"
      ]
    },
    {
      "cell_type": "markdown",
      "metadata": {},
      "source": [
        "## Step 4: Add Calculated Columns\n",
        "\n",
        "Let's add some calculated columns that would be useful for portfolio analysis:\n",
        "- `share_change`: Positive for buys, negative for sells\n",
        "- `cash_flow_impact`: Negative for buys (cash out), positive for sells (cash in)\n"
      ]
    },
    {
      "cell_type": "code",
      "execution_count": null,
      "metadata": {},
      "outputs": [],
      "source": [
        "from snowflake.snowpark.functions import when, lit\n",
        "\n",
        "# Add calculated columns using with_column (one at a time)\n",
        "enriched_df = flattened_df.with_column(\n",
        "    \"share_change\",\n",
        "    when(col(\"trade_action\") == \"Buy\", col(\"shares\"))\n",
        "    .otherwise(-1 * col(\"shares\"))\n",
        ").with_column(\n",
        "    \"cash_flow_impact\", \n",
        "    when(col(\"trade_action\") == \"Buy\", -1 * col(\"total_trade_value\"))\n",
        "    .otherwise(col(\"total_trade_value\"))\n",
        ")\n",
        "\n",
        "# Display enriched data\n",
        "print(\"Enriched flattened data with calculated columns:\")\n",
        "enriched_df.select(\n",
        "    \"transaction_date\", \"customer_id\", \"ticker\", \n",
        "    \"trade_action\", \"shares\", \"share_change\", \n",
        "    \"total_trade_value\", \"cash_flow_impact\"\n",
        ").show(10)\n"
      ]
    },
    {
      "cell_type": "markdown",
      "metadata": {},
      "source": [
        "## Step 5: Aggregate Data by Customer\n",
        "\n",
        "Let's create a summary showing net positions by customer and ticker.\n"
      ]
    },
    {
      "cell_type": "code",
      "execution_count": null,
      "metadata": {},
      "outputs": [],
      "source": [
        "from snowflake.snowpark.functions import sum as sum_\n",
        "\n",
        "# Aggregate by customer and ticker\n",
        "position_summary = enriched_df.group_by(\"customer_id\", \"ticker\", \"account_type\").agg([\n",
        "    sum_(\"share_change\").alias(\"net_shares\"),\n",
        "    sum_(when(col(\"trade_action\") == \"Buy\", col(\"total_trade_value\"))\n",
        "        .otherwise(lit(0))).alias(\"total_bought_value\"),\n",
        "    sum_(when(col(\"trade_action\") == \"Sell\", col(\"total_trade_value\"))\n",
        "        .otherwise(lit(0))).alias(\"total_sold_value\"),\n",
        "    sum_(\"cash_flow_impact\").alias(\"net_cash_impact\")\n",
        "]).filter(col(\"net_shares\") > 0)  # Only show positions with positive shares\n",
        "\n",
        "print(\"Current positions summary by customer:\")\n",
        "position_summary.order_by(\"customer_id\", \"ticker\").show(20)\n"
      ]
    },
    {
      "cell_type": "markdown",
      "metadata": {},
      "source": [
        "## Step 6: Convert to Pandas for Visualization\n",
        "\n",
        "Let's convert a subset of data to pandas for potential visualization or further analysis.\n"
      ]
    },
    {
      "cell_type": "code",
      "execution_count": null,
      "metadata": {},
      "outputs": [],
      "source": [
        "# Get top 5 customers by number of trades\n",
        "top_traders = enriched_df.group_by(\"customer_id\").count() \\\n",
        "    .order_by(col(\"count\").desc()) \\\n",
        "    .limit(5) \\\n",
        "    .select(\"customer_id\").to_pandas()\n",
        "\n",
        "print(\"Top 5 most active traders:\")\n",
        "print(top_traders)\n",
        "\n",
        "# Get trade distribution by action\n",
        "trade_distribution = enriched_df.group_by(\"trade_action\").agg([\n",
        "    sum_(\"shares\").alias(\"total_shares\"),\n",
        "    sum_(\"total_trade_value\").alias(\"total_value\")\n",
        "]).to_pandas()\n",
        "\n",
        "print(\"\\nTrade distribution by action:\")\n",
        "print(trade_distribution)\n"
      ]
    },
    {
      "cell_type": "markdown",
      "metadata": {},
      "source": [
        "## Summary\n",
        "\n",
        "This notebook demonstrated how to:\n",
        "1. Connect to Snowflake using the active session context\n",
        "2. Query raw JSON data from a table\n",
        "3. Use Snowpark's `flatten` function to unnest JSON arrays\n",
        "4. Extract and cast JSON fields to appropriate data types\n",
        "5. Add calculated columns for business logic\n",
        "6. Aggregate data for analysis\n",
        "7. Convert results to pandas for further processing\n",
        "\n",
        "This approach is entirely in-memory and doesn't materialize any data - perfect for exploratory data analysis!\n"
      ]
    },
    {
      "cell_type": "markdown",
      "metadata": {},
      "source": [
        "## Step 6: Convert to Pandas for Visualization\n",
        "\n",
        "Let's convert a subset of data to pandas for potential visualization or further analysis.\n"
      ]
    }
  ],
  "metadata": {
    "language_info": {
      "name": "python"
    }
  },
  "nbformat": 4,
  "nbformat_minor": 2
}
